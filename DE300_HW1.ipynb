{
  "nbformat": 4,
  "nbformat_minor": 0,
  "metadata": {
    "colab": {
      "provenance": []
    },
    "kernelspec": {
      "name": "python3",
      "display_name": "Python 3"
    },
    "language_info": {
      "name": "python"
    }
  },
  "cells": [
    {
      "cell_type": "code",
      "execution_count": 34,
      "metadata": {
        "colab": {
          "base_uri": "https://localhost:8080/",
          "height": 0
        },
        "id": "ss3PA6XzFpPJ",
        "outputId": "f5f15102-5329-4a8a-970f-2e8c6ef241b8"
      },
      "outputs": [
        {
          "output_type": "stream",
          "name": "stderr",
          "text": [
            "<ipython-input-34-f9c14b8dfe96>:2: DtypeWarning: Columns (11) have mixed types. Specify dtype option on import or set low_memory=False.\n",
            "  inventory = pd.read_csv('T_F41SCHEDULE_B43.zip')\n"
          ]
        }
      ],
      "source": [
        "import pandas as pd\n",
        "inventory = pd.read_csv('T_F41SCHEDULE_B43.zip')"
      ]
    },
    {
      "cell_type": "code",
      "source": [
        "inventory.info()"
      ],
      "metadata": {
        "colab": {
          "base_uri": "https://localhost:8080/",
          "height": 0
        },
        "id": "MlPOCuVpI-Nb",
        "outputId": "ea2a4b01-e522-4190-bb01-fed9567eb601"
      },
      "execution_count": 35,
      "outputs": [
        {
          "output_type": "stream",
          "name": "stdout",
          "text": [
            "<class 'pandas.core.frame.DataFrame'>\n",
            "RangeIndex: 132313 entries, 0 to 132312\n",
            "Data columns (total 17 columns):\n",
            " #   Column               Non-Null Count   Dtype  \n",
            "---  ------               --------------   -----  \n",
            " 0   YEAR                 132313 non-null  int64  \n",
            " 1   CARRIER              132264 non-null  object \n",
            " 2   CARRIER_NAME         132208 non-null  object \n",
            " 3   MANUFACTURE_YEAR     132310 non-null  float64\n",
            " 4   UNIQUE_CARRIER_NAME  132208 non-null  object \n",
            " 5   SERIAL_NUMBER        132313 non-null  object \n",
            " 6   TAIL_NUMBER          132313 non-null  object \n",
            " 7   AIRCRAFT_STATUS      132313 non-null  object \n",
            " 8   OPERATING_STATUS     132313 non-null  object \n",
            " 9   NUMBER_OF_SEATS      132306 non-null  float64\n",
            " 10  MANUFACTURER         132313 non-null  object \n",
            " 11  AIRCRAFT_TYPE        102380 non-null  object \n",
            " 12  MODEL                132302 non-null  object \n",
            " 13  CAPACITY_IN_POUNDS   132212 non-null  float64\n",
            " 14  ACQUISITION_DATE     131346 non-null  object \n",
            " 15  AIRLINE_ID           132208 non-null  float64\n",
            " 16  UNIQUE_CARRIER       132149 non-null  object \n",
            "dtypes: float64(4), int64(1), object(12)\n",
            "memory usage: 17.2+ MB\n"
          ]
        }
      ]
    },
    {
      "cell_type": "code",
      "source": [
        "naa_mask = (\n",
        "    inventory['CARRIER'].isna() &\n",
        "    inventory['CARRIER_NAME'].str.upper().eq('NORTH AMERICAN AIRLINES')\n",
        ")\n",
        "\n",
        "inventory.loc[naa_mask, 'CARRIER'] = 'NA'\n",
        "if 'UNIQUE_CARRIER' in inventory.columns:\n",
        "    inventory.loc[naa_mask, 'UNIQUE_CARRIER'] = 'NA'\n",
        "\n",
        "\n",
        "cols_of_interest = [\n",
        "    'CARRIER',\n",
        "    'CARRIER_NAME',\n",
        "    'MANUFACTURE_YEAR',\n",
        "    'NUMBER_OF_SEATS',\n",
        "    'CAPACITY_IN_POUNDS',\n",
        "    'AIRLINE_ID'\n",
        "]\n",
        "\n",
        "missing_summary = inventory[cols_of_interest].isna().sum()\n",
        "print(\"Missing values for each column of interest:\\n\", missing_summary)\n",
        "\n",
        "\n",
        "missing_percentage = (\n",
        "    inventory[cols_of_interest].isna().mean() * 100\n",
        ").round(2)\n",
        "print(\"\\nPercentage of missing values:\\n\", missing_percentage)\n"
      ],
      "metadata": {
        "id": "4ybPZdg7JRBu",
        "colab": {
          "base_uri": "https://localhost:8080/",
          "height": 0
        },
        "outputId": "8bc48b7c-d3b3-4aa4-a462-94fb2a307d30"
      },
      "execution_count": 36,
      "outputs": [
        {
          "output_type": "stream",
          "name": "stdout",
          "text": [
            "Missing values for each column of interest:\n",
            " CARRIER                 0\n",
            "CARRIER_NAME          105\n",
            "MANUFACTURE_YEAR        3\n",
            "NUMBER_OF_SEATS         7\n",
            "CAPACITY_IN_POUNDS    101\n",
            "AIRLINE_ID            105\n",
            "dtype: int64\n",
            "\n",
            "Percentage of missing values:\n",
            " CARRIER               0.00\n",
            "CARRIER_NAME          0.08\n",
            "MANUFACTURE_YEAR      0.00\n",
            "NUMBER_OF_SEATS       0.01\n",
            "CAPACITY_IN_POUNDS    0.08\n",
            "AIRLINE_ID            0.08\n",
            "dtype: float64\n"
          ]
        }
      ]
    },
    {
      "cell_type": "code",
      "source": [
        "carrier_counts_by_id = (\n",
        "    inventory.groupby('AIRLINE_ID')['CARRIER']\n",
        "    .nunique(dropna=True)\n",
        "    .reset_index(name='unique_carrier_count')\n",
        ")\n",
        "\n",
        "print(\"Unique Carrier Count by Airline ID (first 10 rows):\")\n",
        "print(carrier_counts_by_id.head(10))\n"
      ],
      "metadata": {
        "colab": {
          "base_uri": "https://localhost:8080/",
          "height": 0
        },
        "id": "1QrWtDXHCY60",
        "outputId": "953a620b-1fff-46f0-bbad-3daea23b5615"
      },
      "execution_count": 37,
      "outputs": [
        {
          "output_type": "stream",
          "name": "stdout",
          "text": [
            "Unique Carrier Count by Airline ID (first 10 rows):\n",
            "   AIRLINE_ID  unique_carrier_count\n",
            "0     19386.0                     2\n",
            "1     19393.0                     2\n",
            "2     19678.0                     2\n",
            "3     19687.0                     2\n",
            "4     19690.0                     2\n",
            "5     19704.0                     2\n",
            "6     19790.0                     2\n",
            "7     19805.0                     2\n",
            "8     19874.0                     2\n",
            "9     19917.0                     2\n"
          ]
        }
      ]
    },
    {
      "cell_type": "code",
      "source": [
        "naa_mask = inventory['CARRIER_NAME'].str.upper().eq('NORTH AMERICAN AIRLINES')\n",
        "print(f\"\\nRows with 'North American Airlines': {naa_mask.sum()}\")\n",
        "\n",
        "print(inventory.loc[naa_mask, ['CARRIER_NAME', 'CARRIER', 'AIRLINE_ID']].head(10))\n"
      ],
      "metadata": {
        "colab": {
          "base_uri": "https://localhost:8080/",
          "height": 0
        },
        "id": "WIn5YFPmCnzH",
        "outputId": "c351cf28-9acb-46fd-80d7-b4eadaf5fd4f"
      },
      "execution_count": 38,
      "outputs": [
        {
          "output_type": "stream",
          "name": "stdout",
          "text": [
            "\n",
            "Rows with 'North American Airlines': 59\n",
            "                  CARRIER_NAME CARRIER  AIRLINE_ID\n",
            "11776  North American Airlines      NA     20415.0\n",
            "11777  North American Airlines      NA     20415.0\n",
            "11778  North American Airlines      NA     20415.0\n",
            "11779  North American Airlines      NA     20415.0\n",
            "11780  North American Airlines      NA     20415.0\n",
            "11781  North American Airlines      NA     20415.0\n",
            "11782  North American Airlines      NA     20415.0\n",
            "11783  North American Airlines      NA     20415.0\n",
            "11784  North American Airlines      NA     20415.0\n",
            "11785  North American Airlines      NA     20415.0\n"
          ]
        }
      ]
    },
    {
      "cell_type": "code",
      "source": [
        "carrier_map = (\n",
        "    inventory.dropna(subset=['CARRIER'])\n",
        "    .groupby('AIRLINE_ID')['CARRIER']\n",
        "    .agg(['nunique', 'first'])\n",
        "    .query('nunique == 1')\n",
        "    ['first']\n",
        "    .to_dict()\n",
        ")\n",
        "\n",
        "print(\"Carrier map (AIRLINE_ID -> single known CARRIER) count:\", len(carrier_map))\n"
      ],
      "metadata": {
        "colab": {
          "base_uri": "https://localhost:8080/",
          "height": 0
        },
        "id": "yDyWnbgQCrzZ",
        "outputId": "e34759ac-59be-43b1-a1e8-901204ea3955"
      },
      "execution_count": 39,
      "outputs": [
        {
          "output_type": "stream",
          "name": "stdout",
          "text": [
            "Carrier map (AIRLINE_ID -> single known CARRIER) count: 48\n"
          ]
        }
      ]
    },
    {
      "cell_type": "code",
      "source": [
        "inventory['CARRIER_imputed'] = inventory['CARRIER'].copy()\n",
        "\n",
        "mask_missing_carrier = inventory['CARRIER_imputed'].isna()\n",
        "inventory.loc[mask_missing_carrier, 'CARRIER_imputed'] = \\\n",
        "    inventory.loc[mask_missing_carrier, 'AIRLINE_ID'].map(carrier_map)\n",
        "\n",
        "still_missing_carrier = inventory['CARRIER_imputed'].isna().sum()\n",
        "print(\"Remaining missing in 'CARRIER_imputed':\", still_missing_carrier)\n"
      ],
      "metadata": {
        "colab": {
          "base_uri": "https://localhost:8080/",
          "height": 0
        },
        "id": "4ahIbeF7C9Nz",
        "outputId": "7cedb570-b29f-4a2c-f2f5-9d1a3d57f93c"
      },
      "execution_count": 40,
      "outputs": [
        {
          "output_type": "stream",
          "name": "stdout",
          "text": [
            "Remaining missing in 'CARRIER_imputed': 0\n"
          ]
        }
      ]
    },
    {
      "cell_type": "code",
      "source": [
        "name_map = (\n",
        "    inventory.dropna(subset=['CARRIER_NAME'])\n",
        "    .groupby('AIRLINE_ID')['CARRIER_NAME']\n",
        "    .agg(['nunique', 'first'])\n",
        "    .query('nunique == 1')\n",
        "    ['first']\n",
        "    .to_dict()\n",
        ")\n",
        "\n",
        "inventory['CARRIER_NAME_imputed'] = inventory['CARRIER_NAME'].copy()\n",
        "\n",
        "mask_missing_name = inventory['CARRIER_NAME_imputed'].isna()\n",
        "inventory.loc[mask_missing_name, 'CARRIER_NAME_imputed'] = \\\n",
        "    inventory.loc[mask_missing_name, 'AIRLINE_ID'].map(name_map)\n",
        "\n",
        "still_missing_name = inventory['CARRIER_NAME_imputed'].isna().sum()\n",
        "print(\"Remaining missing in 'CARRIER_NAME_imputed':\", still_missing_name)\n"
      ],
      "metadata": {
        "colab": {
          "base_uri": "https://localhost:8080/",
          "height": 0
        },
        "id": "rsz0u50DDFxJ",
        "outputId": "69a966cb-1eeb-4686-f567-ad8cb2533431"
      },
      "execution_count": 41,
      "outputs": [
        {
          "output_type": "stream",
          "name": "stdout",
          "text": [
            "Remaining missing in 'CARRIER_NAME_imputed': 105\n"
          ]
        }
      ]
    },
    {
      "cell_type": "code",
      "source": [
        "num_cols = ['MANUFACTURE_YEAR', 'NUMBER_OF_SEATS', 'CAPACITY_IN_POUNDS']\n",
        "\n",
        "print(\"Summary stats before any numeric imputation:\")\n",
        "print(inventory[num_cols].describe())\n"
      ],
      "metadata": {
        "colab": {
          "base_uri": "https://localhost:8080/",
          "height": 0
        },
        "id": "a5IEnqtYDJGj",
        "outputId": "ccaf87b7-7a29-4ac6-ea9b-0444cead31d7"
      },
      "execution_count": 42,
      "outputs": [
        {
          "output_type": "stream",
          "name": "stdout",
          "text": [
            "Summary stats before any numeric imputation:\n",
            "       MANUFACTURE_YEAR  NUMBER_OF_SEATS  CAPACITY_IN_POUNDS\n",
            "count     132310.000000    132306.000000       132212.000000\n",
            "mean        2000.399992       110.619859        71313.508131\n",
            "std           39.630346        77.424860        87093.991985\n",
            "min            0.000000         0.000000            0.000000\n",
            "25%         1995.000000        50.000000        34446.000000\n",
            "50%         2001.000000       125.000000        43400.000000\n",
            "75%         2007.000000       160.000000        82012.000000\n",
            "max         2756.000000       737.000000       875000.000000\n"
          ]
        }
      ]
    },
    {
      "cell_type": "code",
      "source": [
        "inventory['MANUFACTURE_YEAR_imputed'] = \\\n",
        "    inventory['MANUFACTURE_YEAR'].fillna(inventory['MANUFACTURE_YEAR'].median())\n",
        "\n",
        "inventory['NUMBER_OF_SEATS_imputed'] = \\\n",
        "    inventory['NUMBER_OF_SEATS'].fillna(inventory['NUMBER_OF_SEATS'].median())\n",
        "\n",
        "inventory['CAPACITY_IN_POUNDS_imputed'] = \\\n",
        "    inventory['CAPACITY_IN_POUNDS'].fillna(inventory['CAPACITY_IN_POUNDS'].median())\n",
        "\n",
        "print(\"\\nMissing after median imputation:\")\n",
        "print(inventory[[\n",
        "    'MANUFACTURE_YEAR_imputed',\n",
        "    'NUMBER_OF_SEATS_imputed',\n",
        "    'CAPACITY_IN_POUNDS_imputed'\n",
        "]].isna().sum())\n"
      ],
      "metadata": {
        "colab": {
          "base_uri": "https://localhost:8080/",
          "height": 0
        },
        "id": "bTJXLfGODN1h",
        "outputId": "6f54de74-eb00-4f7e-b015-db733cecd9e4"
      },
      "execution_count": 43,
      "outputs": [
        {
          "output_type": "stream",
          "name": "stdout",
          "text": [
            "\n",
            "Missing after median imputation:\n",
            "MANUFACTURE_YEAR_imputed      0\n",
            "NUMBER_OF_SEATS_imputed       0\n",
            "CAPACITY_IN_POUNDS_imputed    0\n",
            "dtype: int64\n"
          ]
        }
      ]
    },
    {
      "cell_type": "code",
      "source": [
        "print(\"\\n----- Final Check of Missingness -----\")\n",
        "post_impute_cols = [\n",
        "    'CARRIER_imputed',\n",
        "    'CARRIER_NAME_imputed',\n",
        "    'MANUFACTURE_YEAR_imputed',\n",
        "    'NUMBER_OF_SEATS_imputed',\n",
        "    'CAPACITY_IN_POUNDS_imputed',\n",
        "    'AIRLINE_ID'\n",
        "]\n",
        "print(inventory[post_impute_cols].isna().sum())\n"
      ],
      "metadata": {
        "colab": {
          "base_uri": "https://localhost:8080/",
          "height": 0
        },
        "id": "Drvnj4SEDTEG",
        "outputId": "b4ecdbf6-75c7-46af-d227-dafceb6fbf7f"
      },
      "execution_count": 44,
      "outputs": [
        {
          "output_type": "stream",
          "name": "stdout",
          "text": [
            "\n",
            "----- Final Check of Missingness -----\n",
            "CARRIER_imputed                 0\n",
            "CARRIER_NAME_imputed          105\n",
            "MANUFACTURE_YEAR_imputed        0\n",
            "NUMBER_OF_SEATS_imputed         0\n",
            "CAPACITY_IN_POUNDS_imputed      0\n",
            "AIRLINE_ID                    105\n",
            "dtype: int64\n"
          ]
        }
      ]
    },
    {
      "cell_type": "code",
      "source": [
        "text_cols = ['MANUFACTURER', 'MODEL', 'AIRCRAFT_STATUS', 'OPERATING_STATUS']\n",
        "\n",
        "inventory[text_cols].info()"
      ],
      "metadata": {
        "colab": {
          "base_uri": "https://localhost:8080/",
          "height": 0
        },
        "id": "pLrq-h7PDVi5",
        "outputId": "5b0acba8-044d-4244-ec2b-935f4f3ed719"
      },
      "execution_count": 45,
      "outputs": [
        {
          "output_type": "stream",
          "name": "stdout",
          "text": [
            "<class 'pandas.core.frame.DataFrame'>\n",
            "RangeIndex: 132313 entries, 0 to 132312\n",
            "Data columns (total 4 columns):\n",
            " #   Column            Non-Null Count   Dtype \n",
            "---  ------            --------------   ----- \n",
            " 0   MANUFACTURER      132313 non-null  object\n",
            " 1   MODEL             132302 non-null  object\n",
            " 2   AIRCRAFT_STATUS   132313 non-null  object\n",
            " 3   OPERATING_STATUS  132313 non-null  object\n",
            "dtypes: object(4)\n",
            "memory usage: 4.0+ MB\n"
          ]
        }
      ]
    },
    {
      "cell_type": "code",
      "source": [
        "for col in text_cols:\n",
        "    print(f\"\\n== {col} value counts ==\")\n",
        "    print(inventory[col].value_counts(dropna=False).head(10))\n"
      ],
      "metadata": {
        "colab": {
          "base_uri": "https://localhost:8080/",
          "height": 0
        },
        "id": "vuIL4HZmFAqL",
        "outputId": "290a7705-b714-4a68-c6c1-548e0171fc7b"
      },
      "execution_count": 46,
      "outputs": [
        {
          "output_type": "stream",
          "name": "stdout",
          "text": [
            "\n",
            "== MANUFACTURER value counts ==\n",
            "MANUFACTURER\n",
            "BOEING              15922\n",
            "Embraer             11508\n",
            "THEBOEINGCO          9223\n",
            "Bombardier           8871\n",
            "Boeing               8392\n",
            "BoeingCo             7446\n",
            "AIRBUS               7179\n",
            "AirbusIndustries     6967\n",
            "BOEINGCOMPANY        6767\n",
            "Airbus               5289\n",
            "Name: count, dtype: int64\n",
            "\n",
            "== MODEL value counts ==\n",
            "MODEL\n",
            "EMB-145                 2614\n",
            "B-737-7H4               2470\n",
            "B737-823                2370\n",
            "A320-232                2333\n",
            "A321-231                2259\n",
            "737-700PASSENGERONLY    2027\n",
            "C-208B                  1872\n",
            "B757-2                  1775\n",
            "CRJ-2/4                 1761\n",
            "B737-800PAX             1621\n",
            "Name: count, dtype: int64\n",
            "\n",
            "== AIRCRAFT_STATUS value counts ==\n",
            "AIRCRAFT_STATUS\n",
            "O    79487\n",
            "b    30852\n",
            "B    12699\n",
            "a     7804\n",
            "A     1330\n",
            "L      122\n",
            "o       19\n",
            "Name: count, dtype: int64\n",
            "\n",
            "== OPERATING_STATUS value counts ==\n",
            "OPERATING_STATUS\n",
            "Y    126577\n",
            "N      5664\n",
            "y        71\n",
            "          1\n",
            "Name: count, dtype: int64\n"
          ]
        }
      ]
    },
    {
      "cell_type": "code",
      "source": [
        "inventory['MANUFACTURER_std'] = (\n",
        "    inventory['MANUFACTURER']\n",
        "    .astype(str)\n",
        "    .str.strip()\n",
        "    .str.upper()\n",
        ")\n",
        "\n",
        "inventory['MODEL_std'] = (\n",
        "    inventory['MODEL']\n",
        "    .astype(str)\n",
        "    .str.strip()\n",
        "    .str.upper()\n",
        ")\n",
        "\n",
        "inventory['AIRCRAFT_STATUS_std'] = (\n",
        "    inventory['AIRCRAFT_STATUS']\n",
        "    .astype(str)\n",
        "    .str.strip()\n",
        "    .str.upper()\n",
        ")\n",
        "\n",
        "inventory['OPERATING_STATUS_std'] = (\n",
        "    inventory['OPERATING_STATUS']\n",
        "    .astype(str)\n",
        "    .str.strip()\n",
        "    .str.upper()\n",
        ")\n"
      ],
      "metadata": {
        "id": "Pk0BvBTnFFyh"
      },
      "execution_count": 47,
      "outputs": []
    },
    {
      "cell_type": "code",
      "source": [
        "manufacturer_counts = inventory['MANUFACTURER_std'].value_counts().head(10)\n",
        "print(manufacturer_counts)\n"
      ],
      "metadata": {
        "colab": {
          "base_uri": "https://localhost:8080/",
          "height": 0
        },
        "id": "_-nfjeBVFduF",
        "outputId": "ace5ce46-9a30-47f7-cfc7-a3361fb738c9"
      },
      "execution_count": 48,
      "outputs": [
        {
          "output_type": "stream",
          "name": "stdout",
          "text": [
            "MANUFACTURER_std\n",
            "BOEING              27159\n",
            "EMBRAER             15554\n",
            "AIRBUS              13440\n",
            "BOMBARDIER          11834\n",
            "THEBOEINGCO          9231\n",
            "BOEINGCO             7801\n",
            "AIRBUSINDUSTRIES     7053\n",
            "BOEINGCOMPANY        6767\n",
            "CESSNA               4514\n",
            "MCDONNELLDOUGLAS     4306\n",
            "Name: count, dtype: int64\n"
          ]
        }
      ]
    },
    {
      "cell_type": "code",
      "source": [
        "manufacturer_expanded_replacements = {\n",
        "    \"THEBOEINGCO\": \"BOEING\",\n",
        "    \"THEBOEINGCOMPANY\": \"BOEING\",\n",
        "    \"BOEINGCO\": \"BOEING\",\n",
        "    \"BOEINGCO.\": \"BOEING\",\n",
        "    \"BOEINGCOMPANY\": \"BOEING\",\n",
        "    \"BOEING(MCDONNELL-DOUGLAS)\": \"BOEING\",\n",
        "\n",
        "    \"AIRBUSINDUSTRIES\": \"AIRBUS\",\n",
        "    \"AIRBUSINDUSTRIE\": \"AIRBUS\",\n",
        "    \"AIRBUSCOMPANY\": \"AIRBUS\",\n",
        "\n",
        "    \"BOMBARDIERAEROSPACE\": \"BOMBARDIER\",\n",
        "    \"CANADAIR\": \"BOMBARDIER\",\n",
        "\n",
        "\n",
        "    \"MCDONNELLDOUGLAS\": \"BOEING\",\n",
        "    \"MCDONNELLDOUGLASMD11-F\": \"BOEING\",\n",
        "    \"MDDOUGLAS\": \"BOEING\",\n",
        "    \"MCDONALDDOUGLAS\": \"BOEING\",\n",
        "    \"MCDONNELL-DOUGLAS\": \"BOEING\",\n",
        "    \"MCDO\": \"BOEING\",\n",
        "    \"DOUGLAS\": \"BOEING\",\n",
        "    \"DOUGLASAIRCRAFT\": \"BOEING\",\n",
        "    \"MCDONNELDOUGLAS\": \"BOEING\",\n",
        "\n",
        "    \"DEHAVILLAND\": \"DE HAVILLAND\",\n",
        "\n",
        "    \"DASSULT SUD\": \"DASSAULT\",\n",
        "    \"DASSAULT/SUD\": \"DASSAULT\",\n",
        "\n",
        "    \"SAAB AIRCRAFT\": \"SAAB\",\n",
        "\n",
        "\n",
        "    \"EASYJET/GOAL\": \"LEASE/OPERATOR\",\n",
        "    \"EASYJET/GECAS\": \"LEASE/OPERATOR\",\n",
        "    \"IBERIA/SMBC\": \"LEASE/OPERATOR\",\n",
        "    \"VUELING/AERCAP\": \"LEASE/OPERATOR\",\n",
        "    \"SAUDIA/ALAFCO\": \"LEASE/OPERATOR\",\n",
        "    \"ALITALIA/REALIS\": \"LEASE/OPERATOR\",\n",
        "    \"ALC/ALASKA\": \"LEASE/OPERATOR\",\n",
        "    \"SMBCAVIATIONCAPITALLIMITED\": \"LEASE/OPERATOR\",\n",
        "    \"VUELING/GECAS\": \"LEASE/OPERATOR\",\n",
        "    \"CEBUPACIFIC\": \"LEASE/OPERATOR\",\n",
        "    \"CEBUPACIFIC/SMBC\": \"LEASE/OPERATOR\",\n",
        "    \"IBERIA/ILFC\": \"LEASE/OPERATOR\",\n",
        "    \"AERCAP\": \"LEASE/OPERATOR\",\n",
        "    \"COBALT/ICBC\": \"LEASE/OPERATOR\",\n",
        "    \"AVIANCA/ACG\": \"LEASE/OPERATOR\",\n",
        "\n",
        "\n",
        "    \"CHALLENGER300\": \"BOMBARDIER\",\n",
        "    \"DORNIER\": \"DORNIER\",\n",
        "    \"CURTISS\": \"CURTISS\",\n",
        "    \"FAIRCHILD\": \"FAIRCHILD\",\n",
        "    \"CONVAIR\": \"CONVAIR\",\n",
        "    \"HAWKER\": \"HAWKER\",\n",
        "    \"PIPER\": \"PIPER\",\n",
        "    \"PILATUS\": \"PILATUS\",\n",
        "    \"PIPISTRELDOO\": \"PIPISTREL\",\n",
        "    \"BAE\": \"BAE\",\n",
        "    \"DASSAULT\": \"DASSAULT\",\n",
        "    \"FOKKER\": \"FOKKER\",\n",
        "    \"LOCKHEED\": \"LOCKHEED\",\n",
        "    \"GE\": \"GENERAL ELECTRIC\",\n",
        "    \"CFMINTERNATIONAL\": \"CFM INTERNATIONAL\",\n",
        "}\n",
        "\n",
        "inventory['MANUFACTURER_cleaned_v2'] = (\n",
        "    inventory['MANUFACTURER_std']\n",
        "    .replace(manufacturer_expanded_replacements)\n",
        ")\n",
        "\n",
        "print(\"\\nAfter the expanded replacement dictionary, top 10 values:\")\n",
        "print(inventory['MANUFACTURER_cleaned_v2'].value_counts().head(10))\n"
      ],
      "metadata": {
        "colab": {
          "base_uri": "https://localhost:8080/",
          "height": 0
        },
        "id": "wG4ngxYrFfqq",
        "outputId": "8ab1bd9b-e058-47f8-e7ce-12488764da21"
      },
      "execution_count": 49,
      "outputs": [
        {
          "output_type": "stream",
          "name": "stdout",
          "text": [
            "\n",
            "After the expanded replacement dictionary, top 10 values:\n",
            "MANUFACTURER_cleaned_v2\n",
            "BOEING              66445\n",
            "AIRBUS              23513\n",
            "BOMBARDIER          16371\n",
            "EMBRAER             15554\n",
            "CESSNA               4514\n",
            "ATR                  1181\n",
            "GENERAL ELECTRIC     1110\n",
            "DE HAVILLAND         1084\n",
            "SAAB                  595\n",
            "GULFSTREAM            441\n",
            "Name: count, dtype: int64\n"
          ]
        }
      ]
    },
    {
      "cell_type": "code",
      "source": [
        "print(inventory['MODEL_std'].value_counts().head(10))"
      ],
      "metadata": {
        "colab": {
          "base_uri": "https://localhost:8080/",
          "height": 0
        },
        "id": "HOh8W5bsGYUG",
        "outputId": "874a45b1-1e35-4d65-b03c-9ec8805e48c5"
      },
      "execution_count": 50,
      "outputs": [
        {
          "output_type": "stream",
          "name": "stdout",
          "text": [
            "MODEL_std\n",
            "EMB-145                 2976\n",
            "B-737-7H4               2470\n",
            "B737-823                2370\n",
            "A320-232                2333\n",
            "A321-231                2259\n",
            "737-700PASSENGERONLY    2027\n",
            "C-208B                  1872\n",
            "B757-2                  1775\n",
            "CRJ-2/4                 1761\n",
            "B737-800PAX             1621\n",
            "Name: count, dtype: int64\n"
          ]
        }
      ]
    },
    {
      "cell_type": "code",
      "source": [
        "import re\n",
        "\n",
        "def remove_keywords(model_str):\n",
        "    s = model_str.upper().strip()\n",
        "\n",
        "    s = re.sub(r'PASSENGER', '', s)\n",
        "    s = re.sub(r'PSGR', '', s)\n",
        "    s = re.sub(r'ONLY', '', s)\n",
        "    s = re.sub(r'PAX', '', s)\n",
        "    s = re.sub(r'AIRBUS', '', s)\n",
        "    s = re.sub(r'ALL', '', s)\n",
        "    s = re.sub(r'\\s+', ' ', s).strip()\n",
        "    return s\n",
        "\n",
        "\n",
        "inventory['MODEL_cleaned'] = inventory['MODEL'].astype(str).apply(remove_keywords)\n",
        "\n",
        "print(inventory['MODEL_cleaned'].value_counts().head(10))\n"
      ],
      "metadata": {
        "colab": {
          "base_uri": "https://localhost:8080/",
          "height": 0
        },
        "id": "3o9hMabLYREs",
        "outputId": "5def1d8f-5690-4c07-a3ad-6e0ed05d9997"
      },
      "execution_count": 51,
      "outputs": [
        {
          "output_type": "stream",
          "name": "stdout",
          "text": [
            "MODEL_cleaned\n",
            "A320-232     3505\n",
            "B737-823     3326\n",
            "EMB-145      2976\n",
            "B-737-7H4    2470\n",
            "A321-231     2294\n",
            "737-700      2042\n",
            "B737-800     1874\n",
            "C-208B       1872\n",
            "B757-2       1775\n",
            "CRJ-2/4      1761\n",
            "Name: count, dtype: int64\n"
          ]
        }
      ]
    },
    {
      "cell_type": "code",
      "source": [
        "print(inventory['AIRCRAFT_STATUS_std'].value_counts().head(10))"
      ],
      "metadata": {
        "colab": {
          "base_uri": "https://localhost:8080/",
          "height": 0
        },
        "id": "8xzCIysqZFHH",
        "outputId": "44476203-b836-4594-f7eb-d4a06705058f"
      },
      "execution_count": 52,
      "outputs": [
        {
          "output_type": "stream",
          "name": "stdout",
          "text": [
            "AIRCRAFT_STATUS_std\n",
            "O    79506\n",
            "B    43551\n",
            "A     9134\n",
            "L      122\n",
            "Name: count, dtype: int64\n"
          ]
        }
      ]
    },
    {
      "cell_type": "code",
      "source": [
        "print(inventory['OPERATING_STATUS_std'].value_counts().head(10))"
      ],
      "metadata": {
        "colab": {
          "base_uri": "https://localhost:8080/",
          "height": 0
        },
        "id": "cNTuzGO0aMnG",
        "outputId": "f14b5656-96c3-413a-c488-ec5522c13a16"
      },
      "execution_count": 53,
      "outputs": [
        {
          "output_type": "stream",
          "name": "stdout",
          "text": [
            "OPERATING_STATUS_std\n",
            "Y    126648\n",
            "N      5664\n",
            "          1\n",
            "Name: count, dtype: int64\n"
          ]
        }
      ]
    },
    {
      "cell_type": "code",
      "source": [
        "inventory.info()"
      ],
      "metadata": {
        "colab": {
          "base_uri": "https://localhost:8080/",
          "height": 0
        },
        "id": "y4-DPCb9aZz5",
        "outputId": "c8ce883f-dd55-41d7-e272-8eae7d9e0031"
      },
      "execution_count": 54,
      "outputs": [
        {
          "output_type": "stream",
          "name": "stdout",
          "text": [
            "<class 'pandas.core.frame.DataFrame'>\n",
            "RangeIndex: 132313 entries, 0 to 132312\n",
            "Data columns (total 28 columns):\n",
            " #   Column                      Non-Null Count   Dtype  \n",
            "---  ------                      --------------   -----  \n",
            " 0   YEAR                        132313 non-null  int64  \n",
            " 1   CARRIER                     132313 non-null  object \n",
            " 2   CARRIER_NAME                132208 non-null  object \n",
            " 3   MANUFACTURE_YEAR            132310 non-null  float64\n",
            " 4   UNIQUE_CARRIER_NAME         132208 non-null  object \n",
            " 5   SERIAL_NUMBER               132313 non-null  object \n",
            " 6   TAIL_NUMBER                 132313 non-null  object \n",
            " 7   AIRCRAFT_STATUS             132313 non-null  object \n",
            " 8   OPERATING_STATUS            132313 non-null  object \n",
            " 9   NUMBER_OF_SEATS             132306 non-null  float64\n",
            " 10  MANUFACTURER                132313 non-null  object \n",
            " 11  AIRCRAFT_TYPE               102380 non-null  object \n",
            " 12  MODEL                       132302 non-null  object \n",
            " 13  CAPACITY_IN_POUNDS          132212 non-null  float64\n",
            " 14  ACQUISITION_DATE            131346 non-null  object \n",
            " 15  AIRLINE_ID                  132208 non-null  float64\n",
            " 16  UNIQUE_CARRIER              132198 non-null  object \n",
            " 17  CARRIER_imputed             132313 non-null  object \n",
            " 18  CARRIER_NAME_imputed        132208 non-null  object \n",
            " 19  MANUFACTURE_YEAR_imputed    132313 non-null  float64\n",
            " 20  NUMBER_OF_SEATS_imputed     132313 non-null  float64\n",
            " 21  CAPACITY_IN_POUNDS_imputed  132313 non-null  float64\n",
            " 22  MANUFACTURER_std            132313 non-null  object \n",
            " 23  MODEL_std                   132313 non-null  object \n",
            " 24  AIRCRAFT_STATUS_std         132313 non-null  object \n",
            " 25  OPERATING_STATUS_std        132313 non-null  object \n",
            " 26  MANUFACTURER_cleaned_v2     132313 non-null  object \n",
            " 27  MODEL_cleaned               132313 non-null  object \n",
            "dtypes: float64(7), int64(1), object(20)\n",
            "memory usage: 28.3+ MB\n"
          ]
        }
      ]
    },
    {
      "cell_type": "code",
      "source": [
        "inventory_final = inventory.copy()\n",
        "\n",
        "inventory_final['CARRIER']            = inventory['CARRIER_imputed']\n",
        "inventory_final['CARRIER_NAME']       = inventory['CARRIER_NAME_imputed']\n",
        "inventory_final['MANUFACTURE_YEAR']   = inventory['MANUFACTURE_YEAR_imputed']\n",
        "inventory_final['NUMBER_OF_SEATS']    = inventory['NUMBER_OF_SEATS_imputed']\n",
        "inventory_final['CAPACITY_IN_POUNDS'] = inventory['CAPACITY_IN_POUNDS_imputed']\n",
        "\n",
        "inventory_final['MANUFACTURER']       = inventory['MANUFACTURER_cleaned_v2']\n",
        "inventory_final['MODEL']             = inventory['MODEL_cleaned']\n",
        "inventory_final['AIRCRAFT_STATUS']    = inventory['AIRCRAFT_STATUS_std']\n",
        "inventory_final['OPERATING_STATUS']   = inventory['OPERATING_STATUS_std']\n",
        "\n",
        "final_cols = [\n",
        "    'YEAR', 'CARRIER', 'CARRIER_NAME', 'MANUFACTURE_YEAR',\n",
        "    'UNIQUE_CARRIER_NAME', 'SERIAL_NUMBER', 'TAIL_NUMBER',\n",
        "    'AIRCRAFT_STATUS', 'OPERATING_STATUS', 'NUMBER_OF_SEATS',\n",
        "    'MANUFACTURER', 'AIRCRAFT_TYPE', 'MODEL', 'CAPACITY_IN_POUNDS',\n",
        "    'ACQUISITION_DATE', 'AIRLINE_ID', 'UNIQUE_CARRIER'\n",
        "]\n",
        "inventory_final = inventory_final[final_cols]\n",
        "\n",
        "inventory_final.dropna(inplace=True)\n",
        "\n",
        "print(\"Final inventory rows x columns:\", inventory_final.shape)\n",
        "\n"
      ],
      "metadata": {
        "colab": {
          "base_uri": "https://localhost:8080/",
          "height": 0
        },
        "id": "p_44zXcObq_e",
        "outputId": "60f3fdfc-b9d4-4fae-f37f-c138dfbbf3e9"
      },
      "execution_count": 55,
      "outputs": [
        {
          "output_type": "stream",
          "name": "stdout",
          "text": [
            "Final inventory rows x columns: (101316, 17)\n"
          ]
        }
      ]
    },
    {
      "cell_type": "code",
      "source": [
        "inventory_final.info()\n"
      ],
      "metadata": {
        "colab": {
          "base_uri": "https://localhost:8080/",
          "height": 0
        },
        "id": "RsranqTseOwn",
        "outputId": "16776e2a-87a6-4ca7-e910-d4c320a455ed"
      },
      "execution_count": 56,
      "outputs": [
        {
          "output_type": "stream",
          "name": "stdout",
          "text": [
            "<class 'pandas.core.frame.DataFrame'>\n",
            "Index: 101316 entries, 29239 to 132312\n",
            "Data columns (total 17 columns):\n",
            " #   Column               Non-Null Count   Dtype  \n",
            "---  ------               --------------   -----  \n",
            " 0   YEAR                 101316 non-null  int64  \n",
            " 1   CARRIER              101316 non-null  object \n",
            " 2   CARRIER_NAME         101316 non-null  object \n",
            " 3   MANUFACTURE_YEAR     101316 non-null  float64\n",
            " 4   UNIQUE_CARRIER_NAME  101316 non-null  object \n",
            " 5   SERIAL_NUMBER        101316 non-null  object \n",
            " 6   TAIL_NUMBER          101316 non-null  object \n",
            " 7   AIRCRAFT_STATUS      101316 non-null  object \n",
            " 8   OPERATING_STATUS     101316 non-null  object \n",
            " 9   NUMBER_OF_SEATS      101316 non-null  float64\n",
            " 10  MANUFACTURER         101316 non-null  object \n",
            " 11  AIRCRAFT_TYPE        101316 non-null  object \n",
            " 12  MODEL                101316 non-null  object \n",
            " 13  CAPACITY_IN_POUNDS   101316 non-null  float64\n",
            " 14  ACQUISITION_DATE     101316 non-null  object \n",
            " 15  AIRLINE_ID           101316 non-null  float64\n",
            " 16  UNIQUE_CARRIER       101316 non-null  object \n",
            "dtypes: float64(4), int64(1), object(12)\n",
            "memory usage: 13.9+ MB\n"
          ]
        }
      ]
    },
    {
      "cell_type": "code",
      "source": [
        "from matplotlib import pyplot as plt\n",
        "from scipy.stats import boxcox\n",
        "\n",
        "df = inventory_final.copy()\n",
        "\n",
        "skew_seats_before = df['NUMBER_OF_SEATS'].skew()\n",
        "skew_capacity_before = df['CAPACITY_IN_POUNDS'].skew()\n",
        "\n",
        "print(f\"Skewness (before) - NUMBER_OF_SEATS: {skew_seats_before:.2f}\")\n",
        "print(f\"Skewness (before) - CAPACITY_IN_POUNDS: {skew_capacity_before:.2f}\")\n",
        "\n",
        "fig, axes = plt.subplots(nrows=1, ncols=2, figsize=(12, 4))\n",
        "\n",
        "axes[0].hist(df['NUMBER_OF_SEATS'], bins=30)\n",
        "axes[0].set_title(\"Histogram of NUMBER_OF_SEATS (Before)\")\n",
        "\n",
        "axes[1].hist(df['CAPACITY_IN_POUNDS'], bins=30)\n",
        "axes[1].set_title(\"Histogram of CAPACITY_IN_POUNDS (Before)\")\n",
        "\n",
        "plt.tight_layout()\n",
        "plt.show()\n"
      ],
      "metadata": {
        "colab": {
          "base_uri": "https://localhost:8080/",
          "height": 367
        },
        "id": "mhE5poXmeQgE",
        "outputId": "bce985b8-7022-4af5-8145-85230fdbdfdb"
      },
      "execution_count": 57,
      "outputs": [
        {
          "output_type": "stream",
          "name": "stdout",
          "text": [
            "Skewness (before) - NUMBER_OF_SEATS: 0.38\n",
            "Skewness (before) - CAPACITY_IN_POUNDS: 3.77\n"
          ]
        },
        {
          "output_type": "display_data",
          "data": {
            "text/plain": [
              "<Figure size 1200x400 with 2 Axes>"
            ],
            "image/png": "[encoded data removed]"
          },
          "metadata": {}
        }
      ]
    },
    {
      "cell_type": "code",
      "source": [
        "\n",
        "shift_seats = 1 - df['NUMBER_OF_SEATS'].min() if df['NUMBER_OF_SEATS'].min() <= 0 else 0\n",
        "shift_capacity = 1 - df['CAPACITY_IN_POUNDS'].min() if df['CAPACITY_IN_POUNDS'].min() <= 0 else 0\n",
        "\n",
        "df['NUMBER_OF_SEATS_SHIFTED'] = df['NUMBER_OF_SEATS'] + shift_seats\n",
        "df['CAPACITY_IN_POUNDS_SHIFTED'] = df['CAPACITY_IN_POUNDS'] + shift_capacity\n",
        "\n",
        "df['NUMBER_OF_SEATS_BOXCOX'], lambda_seats = boxcox(df['NUMBER_OF_SEATS_SHIFTED'])\n",
        "df['CAPACITY_IN_POUNDS_BOXCOX'], lambda_capacity = boxcox(df['CAPACITY_IN_POUNDS_SHIFTED'])\n",
        "\n",
        "print(f\"Box-Cox lambda for NUMBER_OF_SEATS: {lambda_seats:.3f}\")\n",
        "print(f\"Box-Cox lambda for CAPACITY_IN_POUNDS: {lambda_capacity:.3f}\")\n",
        "\n",
        "\n",
        "skew_seats_after = df['NUMBER_OF_SEATS_BOXCOX'].skew()\n",
        "skew_capacity_after = df['CAPACITY_IN_POUNDS_BOXCOX'].skew()\n",
        "\n",
        "print(f\"\\nSkewness (after) - NUMBER_OF_SEATS_BOXCOX: {skew_seats_after:.2f}\")\n",
        "print(f\"Skewness (after) - CAPACITY_IN_POUNDS_BOXCOX: {skew_capacity_after:.2f}\")\n",
        "\n",
        "fig, axes = plt.subplots(nrows=1, ncols=2, figsize=(12, 4))\n",
        "\n",
        "axes[0].hist(df['NUMBER_OF_SEATS_BOXCOX'], bins=30)\n",
        "axes[0].set_title(\"Histogram of NUMBER_OF_SEATS_BOXCOX (After)\")\n",
        "\n",
        "axes[1].hist(df['CAPACITY_IN_POUNDS_BOXCOX'], bins=30)\n",
        "axes[1].set_title(\"Histogram of CAPACITY_IN_POUNDS_BOXCOX (After)\")\n",
        "\n",
        "plt.tight_layout()\n",
        "plt.show()"
      ],
      "metadata": {
        "colab": {
          "base_uri": "https://localhost:8080/",
          "height": 420
        },
        "id": "R8spdOB6EjOG",
        "outputId": "e108d579-74b8-4288-a771-95a4fb81e66a"
      },
      "execution_count": 58,
      "outputs": [
        {
          "output_type": "stream",
          "name": "stdout",
          "text": [
            "Box-Cox lambda for NUMBER_OF_SEATS: 0.584\n",
            "Box-Cox lambda for CAPACITY_IN_POUNDS: 0.300\n",
            "\n",
            "Skewness (after) - NUMBER_OF_SEATS_BOXCOX: -0.53\n",
            "Skewness (after) - CAPACITY_IN_POUNDS_BOXCOX: 0.19\n"
          ]
        },
        {
          "output_type": "display_data",
          "data": {
            "text/plain": [
              "<Figure size 1200x400 with 2 Axes>"
            ],
            "image/png": "[encoded data removed]"
          },
          "metadata": {}
        }
      ]
    },
    {
      "cell_type": "code",
      "source": [
        "'''\n",
        "Before the Box-Cox transformation, NUMBER_OF_SEATS showed a mild right skew\n",
        "with most values clustered between 0 and 150. Meanwhile, CAPACITY_IN_POUNDS\n",
        "exhibited a much stronger right skew due to a handful of very large capacity\n",
        "aircraft. In both cases, the histograms were stretched to the right, indicating\n",
        "non-normal distributions.\n",
        "\n",
        "After the Box-Cox transformation, both variables became more symmetric.\n",
        "NUMBER_OF_SEATS_BOXCOX now displays a slightly left-skewed shape, but overall\n",
        "is more spread out and less extreme. CAPACITY_IN_POUNDS_BOXCOX shows a drastic\n",
        "reduction in skewness, with the heavy tail largely suppressed, resulting in a\n",
        "distribution that is much closer to normal.\n",
        "'''"
      ],
      "metadata": {
        "colab": {
          "base_uri": "https://localhost:8080/",
          "height": 124
        },
        "id": "rfYzqAFIE7D8",
        "outputId": "c040b318-097b-4caa-b8be-ef3f4ce95304"
      },
      "execution_count": 59,
      "outputs": [
        {
          "output_type": "execute_result",
          "data": {
            "text/plain": [
              "'\\nBefore the Box-Cox transformation, NUMBER_OF_SEATS showed a mild right skew \\nwith most values clustered between 0 and 150. Meanwhile, CAPACITY_IN_POUNDS \\nexhibited a much stronger right skew due to a handful of very large capacity \\naircraft. In both cases, the histograms were stretched to the right, indicating \\nnon-normal distributions.\\n\\nAfter the Box-Cox transformation, both variables became more symmetric. \\nNUMBER_OF_SEATS_BOXCOX now displays a slightly left-skewed shape, but overall \\nis more spread out and less extreme. CAPACITY_IN_POUNDS_BOXCOX shows a drastic \\nreduction in skewness, with the heavy tail largely suppressed, resulting in a \\ndistribution that is much closer to normal.\\n'"
            ],
            "application/vnd.google.colaboratory.intrinsic+json": {
              "type": "string"
            }
          },
          "metadata": {},
          "execution_count": 59
        }
      ]
    },
    {
      "cell_type": "code",
      "source": [
        "import pandas as pd\n",
        "import matplotlib.pyplot as plt\n",
        "\n",
        "\n",
        "quartiles = df['NUMBER_OF_SEATS'].quantile([0.25, 0.5, 0.75])\n",
        "q1 = quartiles[0.25]\n",
        "q2 = quartiles[0.5]\n",
        "q3 = quartiles[0.75]\n",
        "\n",
        "def categorize_size(seats):\n",
        "    if seats < q1:\n",
        "        return \"SMALL\"\n",
        "    elif seats < q2:\n",
        "        return \"MEDIUM\"\n",
        "    elif seats < q3:\n",
        "        return \"LARGE\"\n",
        "    else:\n",
        "        return \"XLARGE\"\n",
        "\n",
        "df['SIZE'] = df['NUMBER_OF_SEATS'].apply(categorize_size)\n",
        "\n",
        "print(df['SIZE'].value_counts())\n"
      ],
      "metadata": {
        "colab": {
          "base_uri": "https://localhost:8080/",
          "height": 0
        },
        "id": "lp4MAXv1Gp1k",
        "outputId": "9df28e02-3d94-4477-d527-873810addf69"
      },
      "execution_count": 60,
      "outputs": [
        {
          "output_type": "stream",
          "name": "stdout",
          "text": [
            "SIZE\n",
            "MEDIUM    30902\n",
            "XLARGE    25431\n",
            "LARGE     25326\n",
            "SMALL     19657\n",
            "Name: count, dtype: int64\n"
          ]
        }
      ]
    },
    {
      "cell_type": "code",
      "source": [
        "operating_tab = pd.crosstab(df['SIZE'], df['OPERATING_STATUS'])\n",
        "\n",
        "operating_prop = operating_tab.div(operating_tab.sum(axis=1), axis=0)\n",
        "print(\"\\nProportions of OPERATING_STATUS by SIZE:\")\n",
        "print(operating_prop)\n"
      ],
      "metadata": {
        "colab": {
          "base_uri": "https://localhost:8080/",
          "height": 0
        },
        "id": "v8ITFa_5HH5e",
        "outputId": "81ac9caf-c7e6-4e0a-eea3-7baee65d4fea"
      },
      "execution_count": 61,
      "outputs": [
        {
          "output_type": "stream",
          "name": "stdout",
          "text": [
            "\n",
            "Proportions of OPERATING_STATUS by SIZE:\n",
            "OPERATING_STATUS                   N         Y\n",
            "SIZE                                          \n",
            "LARGE             0.000000  0.033286  0.966714\n",
            "MEDIUM            0.000032  0.052359  0.947609\n",
            "SMALL             0.000000  0.031388  0.968612\n",
            "XLARGE            0.000000  0.030553  0.969447\n"
          ]
        }
      ]
    },
    {
      "cell_type": "code",
      "source": [
        "operating_prop.plot(kind='bar', stacked=True, figsize=(6, 4))\n",
        "plt.title(\"Proportions of OPERATING_STATUS by SIZE\")\n",
        "plt.ylabel(\"Proportion\")\n",
        "plt.legend(title='OPERATING_STATUS', bbox_to_anchor=(1.05, 1), loc='upper left')\n",
        "plt.tight_layout()\n",
        "plt.show()\n"
      ],
      "metadata": {
        "colab": {
          "base_uri": "https://localhost:8080/",
          "height": 407
        },
        "id": "UleD9ZBHHOyK",
        "outputId": "10d81f9e-dbe8-46bf-dc64-f24235b0b94b"
      },
      "execution_count": 62,
      "outputs": [
        {
          "output_type": "display_data",
          "data": {
            "text/plain": [
              "<Figure size 600x400 with 1 Axes>"
            ],
            "image/png": "[encoded data removed]"
          },
          "metadata": {}
        }
      ]
    },
    {
      "cell_type": "code",
      "source": [
        "status_tab = pd.crosstab(df['SIZE'], df['AIRCRAFT_STATUS'])\n",
        "status_prop = status_tab.div(status_tab.sum(axis=1), axis=0)\n",
        "print(\"\\nProportions of AIRCRAFT_STATUS by SIZE:\")\n",
        "print(status_prop)\n"
      ],
      "metadata": {
        "colab": {
          "base_uri": "https://localhost:8080/",
          "height": 0
        },
        "id": "vxEAS4rrHsGu",
        "outputId": "e1f8ad3b-f4fb-4f95-dc4a-1bedb7cbca58"
      },
      "execution_count": 63,
      "outputs": [
        {
          "output_type": "stream",
          "name": "stdout",
          "text": [
            "\n",
            "Proportions of AIRCRAFT_STATUS by SIZE:\n",
            "AIRCRAFT_STATUS         A         B         L         O\n",
            "SIZE                                                   \n",
            "LARGE            0.115099  0.201098  0.001737  0.682066\n",
            "MEDIUM           0.066145  0.513332  0.001100  0.419423\n",
            "SMALL            0.037696  0.235234  0.000000  0.727069\n",
            "XLARGE           0.076167  0.194723  0.001730  0.727380\n"
          ]
        }
      ]
    },
    {
      "cell_type": "code",
      "source": [
        "status_prop.plot(kind='bar', stacked=True, figsize=(6, 4))\n",
        "plt.title(\"Proportions of AIRCRAFT_STATUS by SIZE\")\n",
        "plt.ylabel(\"Proportion\")\n",
        "plt.legend(title='AIRCRAFT_STATUS', bbox_to_anchor=(1.05, 1), loc='upper left')\n",
        "plt.tight_layout()\n",
        "plt.show()\n"
      ],
      "metadata": {
        "colab": {
          "base_uri": "https://localhost:8080/",
          "height": 407
        },
        "id": "zMbgkH1eHwjx",
        "outputId": "8086123d-14ac-4e86-e50a-654183dbb58d"
      },
      "execution_count": 64,
      "outputs": [
        {
          "output_type": "display_data",
          "data": {
            "text/plain": [
              "<Figure size 600x400 with 1 Axes>"
            ],
            "image/png": "[encoded data removed]"
          },
          "metadata": {}
        }
      ]
    },
    {
      "cell_type": "code",
      "source": [
        "'''\n",
        "Overall, aircraft in all size categories (SMALL, MEDIUM, LARGE, and XLARGE)\n",
        "are predominantly in the “operating” status, with only a small fraction marked\n",
        "as not operating. In other words, the proportion of OPERATING_STATUS = Y is\n",
        "consistently high across the board, indicating that most aircraft—regardless\n",
        "of seat capacity quartile—are active at any given time. The slight variations\n",
        "among size groups suggest that while there may be occasional differences\n",
        "(e.g., SMALL planes having a marginally lower operating proportion), these\n",
        "differences are not dramatic.\n",
        "\n",
        "Looking at AIRCRAFT_STATUS, the majority of aircraft in every size category\n",
        "fall under status “O,” followed by status “B,” with only a small fraction in\n",
        "“A” or “L.” That said, the exact mix of statuses differs slightly by size group,\n",
        "as SMALL aircraft appear to have a moderately larger share of “B” (perhaps\n",
        "related to storage or other categories), while LARGE and XLARGE aircraft more\n",
        "often remain in “O.” This pattern highlights that bigger planes tend to stay\n",
        "in a consistent operational/service status, whereas smaller planes see a bit\n",
        "more variation in usage or maintenance statuses.\n",
        "\n",
        "'''"
      ],
      "metadata": {
        "colab": {
          "base_uri": "https://localhost:8080/",
          "height": 177
        },
        "id": "2uHMvYTtHyjr",
        "outputId": "5a9b0c64-42f5-43d3-931e-69fb850c319f"
      },
      "execution_count": 65,
      "outputs": [
        {
          "output_type": "execute_result",
          "data": {
            "text/plain": [
              "'\\nOverall, aircraft in all size categories (SMALL, MEDIUM, LARGE, and XLARGE) \\nare predominantly in the “operating” status, with only a small fraction marked \\nas not operating. In other words, the proportion of OPERATING_STATUS = Y is \\nconsistently high across the board, indicating that most aircraft—regardless \\nof seat capacity quartile—are active at any given time. The slight variations \\namong size groups suggest that while there may be occasional differences \\n(e.g., SMALL planes having a marginally lower operating proportion), these \\ndifferences are not dramatic.\\n\\nLooking at AIRCRAFT_STATUS, the majority of aircraft in every size category \\nfall under status “O,” followed by status “B,” with only a small fraction in \\n“A” or “L.” That said, the exact mix of statuses differs slightly by size group,\\nas SMALL aircraft appear to have a moderately larger share of “B” (perhaps \\nrelated to storage or other categories), while LARGE and XLARGE aircraft more \\noften remain in “O.” This pattern highlights that bigger planes tend to stay \\nin a consistent operational/service status, whereas smaller planes see a bit \\nmore variation in usage or maintenance statuses.\\n\\n'"
            ],
            "application/vnd.google.colaboratory.intrinsic+json": {
              "type": "string"
            }
          },
          "metadata": {},
          "execution_count": 65
        }
      ]
    }
  ]
}